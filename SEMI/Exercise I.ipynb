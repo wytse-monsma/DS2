{
 "cells": [
  {
   "cell_type": "markdown",
   "metadata": {},
   "source": [
    "<!-- (a) Warming up: Give the old school SQL query that produces three columns: ‘name’, ‘year’, and ‘rating’. -->\n",
    "SELECT name, year, rating \n",
    "FROM \"movies\".\"movie\";"
   ]
  },
  {
   "cell_type": "markdown",
   "metadata": {},
   "source": [
    "<!-- (b) Give the SQL/XML query that produces three columns, each with an element: <name>, <year>, <rating>. -->\n",
    "SELECT \n",
    "    xmlforest(name AS \"name\", year AS \"year\", rating AS \"rating\") \n",
    "FROM movie;"
   ]
  },
  {
   "cell_type": "markdown",
   "metadata": {},
   "source": [
    "<!-- (c) Give the SQL/XML query that produces a single column, with all three elements <name>, <year>, <rating>. -->\n",
    "SELECT \n",
    "    xmlelement(NAME \"movie\", \n",
    "        xmlforest(name AS \"name\", year AS \"year\", rating AS \"rating\")\n",
    "    ) \n",
    "FROM movie;"
   ]
  },
  {
   "cell_type": "markdown",
   "metadata": {},
   "source": [
    "<!-- (d) Give the SQL/XML query that produces a single column, with all three elements <name>, <year>,\n",
    "<rating> nested inside an element <movie>. (Bonus: add an attribute ’id’ with the movie identifier\n",
    "‘mid’.) -->\n",
    "SELECT \n",
    "    xmlelement(NAME \"movie\", \n",
    "        xmlattributes(mid AS \"id\"), \n",
    "        xmlforest(name AS \"name\", year AS \"year\", rating AS \"rating\")\n",
    "    ) \n",
    "FROM movie;"
   ]
  },
  {
   "cell_type": "markdown",
   "metadata": {},
   "source": [
    "<!-- (e) Write an ordinary SQL query that produces four columns, ‘name’, ‘year’, ‘rating’, and ’nr of roles’,\n",
    "where the last column contains the number of actor roles for each movie.  -->\n",
    "SELECT m.name, m.year, m.rating, COUNT(a.pid) AS \"nr of roles\"\n",
    "FROM movie m\n",
    "JOIN acts a ON m.mid = a.mid\n",
    "GROUP BY m.mid;\n",
    "\n",
    "<!-- Then change the SELECT\n",
    "part of your query, such that it produces lines like the following, such that the result enumerates all\n",
    "roles instead of counting them (and commit this too):\n",
    "<movie><name>Jaws</name><year>1975</year><rating>8.2</rating><role>Chief Martin\n",
    "Brody</role><role>Quint</role> ... </movie> -->\n",
    "SELECT \n",
    "    xmlelement(NAME \"movie\",\n",
    "        xmlelement(NAME \"name\", m.name),\n",
    "        xmlelement(NAME \"year\", m.year),\n",
    "        xmlelement(NAME \"rating\", m.rating),\n",
    "        (SELECT xmlagg(xmlelement(NAME \"role\", a.role)) \n",
    "         FROM acts a \n",
    "         WHERE a.mid = m.mid)\n",
    "    ) \n",
    "FROM movie m;"
   ]
  },
  {
   "cell_type": "markdown",
   "metadata": {},
   "source": [
    "<!-- (f) Write an ordinary SQL query that produces four columns, ‘name’, ‘year’, ‘rating’, ’nr of roles’,\n",
    "’nr or directors’ where the last column contains the number of directors for each movie. Tip: Solution\n",
    "2e can be done with a GROUP BY clause, but also without.  -->\n",
    "SELECT m.name, m.year, m.rating, \n",
    "       COUNT(DISTINCT a.pid) AS \"nr of roles\",\n",
    "       COUNT(DISTINCT d.pid) AS \"nr of directors\"\n",
    "FROM movie m\n",
    "LEFT JOIN acts a ON m.mid = a.mid\n",
    "LEFT JOIN directs d ON m.mid = d.mid\n",
    "GROUP BY m.mid;\n",
    "\n",
    "<!-- Then change the SELECT part of your\n",
    "query, such that it produces lines like the following (and commit this too):\n",
    "<movie><name>Jaws</name><year>1975</year><rating>8.2</rating><role>Chief Martin\n",
    "Brody</role><role>Quint</role> ... <director>Steven Spielberg</director> </movie> -->\n",
    "SELECT \n",
    "    xmlelement(NAME \"movie\",\n",
    "        xmlelement(NAME \"name\", m.name),\n",
    "        xmlelement(NAME \"year\", m.year),\n",
    "        xmlelement(NAME \"rating\", m.rating),\n",
    "        (SELECT xmlagg(xmlelement(NAME \"role\", a.role)) \n",
    "         FROM acts a \n",
    "         WHERE a.mid = m.mid),\n",
    "        (SELECT xmlagg(xmlelement(NAME \"director\", p.name )) \n",
    "         FROM directs d, person p \n",
    "         WHERE d.mid = m.mid\n",
    "         AND d.pid = p.pid)\n",
    "    ) \n",
    "FROM movie m;"
   ]
  }
 ],
 "metadata": {
  "language_info": {
   "name": "python"
  }
 },
 "nbformat": 4,
 "nbformat_minor": 2
}
