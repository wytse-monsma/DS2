{
 "cells": [
  {
   "cell_type": "code",
   "execution_count": 25,
   "metadata": {},
   "outputs": [
    {
     "name": "stderr",
     "output_type": "stream",
     "text": [
      "[nltk_data] Downloading package webtext to\n",
      "[nltk_data]     C:\\Users\\stefa\\AppData\\Roaming\\nltk_data...\n",
      "[nltk_data]   Package webtext is already up-to-date!\n"
     ]
    },
    {
     "data": {
      "text/plain": [
       "True"
      ]
     },
     "execution_count": 25,
     "metadata": {},
     "output_type": "execute_result"
    }
   ],
   "source": [
    "# Once, download the webtext corpus and import libraries\n",
    "import re\n",
    "import json\n",
    "import nltk\n",
    "nltk.download('webtext')"
   ]
  },
  {
   "cell_type": "code",
   "execution_count": null,
   "metadata": {},
   "outputs": [],
   "source": [
    "# Import the webtext corpus\n",
    "from nltk.corpus import webtext\n",
    "lines = webtext.raw(\"firefox.txt\").lower()\n",
    "\n",
    "# Save webtext to a file, to make it easier to work with\n",
    "with open(\"firefox.txt\", \"w\", encoding=\"utf-8\") as f:\n",
    "    f.write(lines)"
   ]
  },
  {
   "cell_type": "code",
   "execution_count": null,
   "metadata": {},
   "outputs": [
    {
     "name": "stdout",
     "output_type": "stream",
     "text": [
      "['osnews.com', 'msn.at', 'gentoo.org', 'Edmunds.com', 'FedEx.com', 'pagesjaunes.fr', 'launch.yahoo.com', 'o2.co', 'www.libpr0n.com', 'http://www.cctvusa.com', 'www.lycos.co.uk', 'news.com', 'microsoft.com', 'mail.yahoo.com', 'eweek.com', 'www.php.net', 'choiceradio.com', 'www.zoneedit.com', 'allmakefiles.sh', 'bbc.co.uk', 'vanguard.com', 'loginnet.passport.com', 'noaa.gov', 'ebay.de', 'yodobashi.com', 'www.petetownshend.co.uk', 'Matcheroo.com', 'www.w3c.org', 'www.google.com', 'cheaptickets.com', 'sidhe.org', 'photo.net', 'theaa.com', 'texturizer.net', 'www.blogger.com', 'www.lycos.co', 'client.mk', 'http://labs.google.com', 'www.odeon.co', 'Dict.org', 'home.pacbell.net', 'koss.com', 'aftonbladet.se', 'www.vipernetworks.com', 'ew.com', 'campusi.com', 'dpreview.com', 'http://www.mozilla.org', 'www.calciomercato.com', 'www.wamu.com', 'Yahoo.com', 'ftp.gimp.org', 'libtoolkitcomps.so', 'www.lexis.com', 'http://www.scripting.com', 'ulasponsel.com', 'php.net', 'http://ftp.mozilla.org/pub/mozilla.org', 'Folder...in', 'freebyte.com', 'online.firstusa.com', 'SmartSource.com', 'mycard.fleet.com', 'doubleclick.net', 'www.fnac.fr', 'http://www.http://mozilla.org', 'www.rmvplus.de', 'http://www.lexis.com', 'jpbe.net', 'www.microsoft.com', 'gametimesonline.com', 'nu.nl', 'allposters.com', 'http://www.watch.impress.co.jp', 'smartmoney.com', 'libintl.so', '1.example.com', 'redirection.pl', 'www.mp3.de', 'Adobe.com', 'net.au', 'www.odeon.co.uk', 'HushMail.com', 'www.file.com', 'MyNetscape.com', 'sun.com', 'www.aol.com', 'login.yahoo.com', 'googlesyndication.com', 'www.logitech.com', 'Mozilla.org', 'geocaching.com', 'NYTimes.com', 'preprocessor.pl', 'http://www.watch.impress.co', 'blogger.com', '2.example.com', 'http://www.trenitalia.com', 'xxx.yyy.com', 'localhost.be', 'gay.com', 'fark.com', 'www.petetownshend.co', 'SBC.Yahoo.com', 'https://www.eposasp.com', 'galleria.net', 'hku.hk', 'verizonwireless.com', 'www.atozwebtools.com', 'https://www.fortify.net', 'yyy.yyyyyy.com', 'www.localhost.net', 'mobile.com', 'trease.biz', 'http://texturizer.net', 'com.tr', 'outwar.com', 'Buy.com', 'cube.ign.com', 'download.com', 'www.yahoo.com', 'http://www.woolworth.de', 'faltplatte.de', 'www.us.army.mil', 'www.uboot.com', 'nppdf.so', 'python.org', 'rottentomatoes.com', 'winamp.com', 'freshmeat.net', 'http://www.odeon.co', 'paypal.com', 'OO.org', 'www.alternate.de', 'libgklayout.so', 'nationstates.net', 'localhost.net.au', 'libjavaplugin_oji.so', 'google.com', 'www.linuxmail.org', 'koreanair.com', 'News.com', 'Bestbuy.com', 'yahoo.com', 'http://extensionroom.mozdev.org', 'apple.com', 'http://www.timbressuisses.ch', 'w.com', 'my.yahoo.com', 'info.org', 'mozilla.sh', 'www.pcpitstop.com', 'o2.co.uk', 'www.excite.com', 'abc.com', 'www.localhost.net.au', 'mozilla.org', 'iWon.com', 'pcworld.co', 'http://www.peterre.com', 'http://www.odeon.co.uk', 'sequent.org', 'amazon.com', 'MozDev.org', 'www.xy.com', 'freespeech.org', 'www.intellicast.com', 'localhost.net', 'libprofile.so', 'usaa.com', 'derstandard.at', 'users.net', 'AOL.com', 'signonsandiego.com', 'jars.pl', 'foo.com', 'vons.com', 'ford.com', 'Slashdot.org', 'www.debian.org', 'suprnova.org', 'nsExtensionManager.js.in', 'bestbuy.com', 'http://bugzilla.mozilla.org', 'vgpro.com', 'NBA.com', 'nfl.com', 'Libprofile.so', 'tylock.com', 'mail.com', 'www.us', 'moravian.edu', 'www.mozilla.org', 'fstv.org', 'download.microsoft.com', 'www.foo.com', 'bbc.co', 'hottopic.com', 'www.X.com', 'belinda.ca', 'www.hvv.de', 'mozdev.org', 'libnspr4.so', '2.so', 'pcworld.co.uk', 'mapy.centrum.cz', 'dyndns.org', 'SitePoint.com']\n"
     ]
    }
   ],
   "source": [
    "# Find all valid links, based on the topdomains.json file, given that every link has a top-level domain and valid url chars\n",
    "words = []\n",
    "\n",
    "with open(\"topdomains.json\", \"r\") as f:\n",
    "    topdomains = json.load(f)\n",
    "\n",
    "for topdomain in topdomains:\n",
    "    words += re.findall(r\"\\b[\\w.:/]+\\.{}\\b\".format(topdomain[\"fields\"][\"tld\"].lower()), lines)\n",
    "\n",
    "words = list(set(words))\n",
    "print(words)"
   ]
  },
  {
   "cell_type": "code",
   "execution_count": 34,
   "metadata": {},
   "outputs": [
    {
     "ename": "PatternError",
     "evalue": "look-behind requires fixed-width pattern",
     "output_type": "error",
     "traceback": [
      "\u001b[1;31m---------------------------------------------------------------------------\u001b[0m",
      "\u001b[1;31mPatternError\u001b[0m                              Traceback (most recent call last)",
      "Cell \u001b[1;32mIn[34], line 8\u001b[0m\n\u001b[0;32m      5\u001b[0m shortcuts \u001b[38;5;241m=\u001b[39m []\n\u001b[0;32m      6\u001b[0m \u001b[38;5;28;01mfor\u001b[39;00m shortcut_starter \u001b[38;5;129;01min\u001b[39;00m shortcut_starters:\n\u001b[0;32m      7\u001b[0m     \u001b[38;5;66;03m# shortcuts += re.findall(r\"\\b{}\\s*\\+\\s*\\w+\\b\".format(shortcut_starter), lines)\u001b[39;00m\n\u001b[1;32m----> 8\u001b[0m     shortcuts \u001b[38;5;241m+\u001b[39m\u001b[38;5;241m=\u001b[39m \u001b[43mre\u001b[49m\u001b[38;5;241;43m.\u001b[39;49m\u001b[43mfindall\u001b[49m\u001b[43m(\u001b[49m\u001b[38;5;124;43mr\u001b[39;49m\u001b[38;5;124;43m\"\u001b[39;49m\u001b[38;5;124;43m(?<!\u001b[39;49m\u001b[38;5;124;43m\\\u001b[39;49m\u001b[38;5;124;43m+\u001b[39;49m\u001b[38;5;124;43m\\\u001b[39;49m\u001b[38;5;124;43ms*)\u001b[39;49m\u001b[38;5;124;43m\\\u001b[39;49m\u001b[38;5;124;43mb\u001b[39;49m\u001b[38;5;132;43;01m{}\u001b[39;49;00m\u001b[38;5;124;43m\\\u001b[39;49m\u001b[38;5;124;43ms*\u001b[39;49m\u001b[38;5;124;43m\\\u001b[39;49m\u001b[38;5;124;43m+\u001b[39;49m\u001b[38;5;124;43m\\\u001b[39;49m\u001b[38;5;124;43ms*\u001b[39;49m\u001b[38;5;124;43m\\\u001b[39;49m\u001b[38;5;124;43mw+\u001b[39;49m\u001b[38;5;124;43m\\\u001b[39;49m\u001b[38;5;124;43mb\u001b[39;49m\u001b[38;5;124;43m\"\u001b[39;49m\u001b[38;5;241;43m.\u001b[39;49m\u001b[43mformat\u001b[49m\u001b[43m(\u001b[49m\u001b[43mshortcut_starter\u001b[49m\u001b[43m)\u001b[49m\u001b[43m,\u001b[49m\u001b[43m \u001b[49m\u001b[43mlines\u001b[49m\u001b[43m)\u001b[49m\n\u001b[0;32m     10\u001b[0m shortcuts \u001b[38;5;241m=\u001b[39m \u001b[38;5;28mlist\u001b[39m(\u001b[38;5;28mset\u001b[39m(shortcuts))\n\u001b[0;32m     11\u001b[0m \u001b[38;5;28mprint\u001b[39m(shortcuts)\n",
      "File \u001b[1;32m~\\AppData\\Local\\Programs\\Python\\Python313\\Lib\\re\\__init__.py:278\u001b[0m, in \u001b[0;36mfindall\u001b[1;34m(pattern, string, flags)\u001b[0m\n\u001b[0;32m    270\u001b[0m \u001b[38;5;28;01mdef\u001b[39;00m\u001b[38;5;250m \u001b[39m\u001b[38;5;21mfindall\u001b[39m(pattern, string, flags\u001b[38;5;241m=\u001b[39m\u001b[38;5;241m0\u001b[39m):\n\u001b[0;32m    271\u001b[0m \u001b[38;5;250m    \u001b[39m\u001b[38;5;124;03m\"\"\"Return a list of all non-overlapping matches in the string.\u001b[39;00m\n\u001b[0;32m    272\u001b[0m \n\u001b[0;32m    273\u001b[0m \u001b[38;5;124;03m    If one or more capturing groups are present in the pattern, return\u001b[39;00m\n\u001b[1;32m   (...)\u001b[0m\n\u001b[0;32m    276\u001b[0m \n\u001b[0;32m    277\u001b[0m \u001b[38;5;124;03m    Empty matches are included in the result.\"\"\"\u001b[39;00m\n\u001b[1;32m--> 278\u001b[0m     \u001b[38;5;28;01mreturn\u001b[39;00m \u001b[43m_compile\u001b[49m\u001b[43m(\u001b[49m\u001b[43mpattern\u001b[49m\u001b[43m,\u001b[49m\u001b[43m \u001b[49m\u001b[43mflags\u001b[49m\u001b[43m)\u001b[49m\u001b[38;5;241m.\u001b[39mfindall(string)\n",
      "File \u001b[1;32m~\\AppData\\Local\\Programs\\Python\\Python313\\Lib\\re\\__init__.py:350\u001b[0m, in \u001b[0;36m_compile\u001b[1;34m(pattern, flags)\u001b[0m\n\u001b[0;32m    348\u001b[0m \u001b[38;5;28;01mif\u001b[39;00m \u001b[38;5;129;01mnot\u001b[39;00m _compiler\u001b[38;5;241m.\u001b[39misstring(pattern):\n\u001b[0;32m    349\u001b[0m     \u001b[38;5;28;01mraise\u001b[39;00m \u001b[38;5;167;01mTypeError\u001b[39;00m(\u001b[38;5;124m\"\u001b[39m\u001b[38;5;124mfirst argument must be string or compiled pattern\u001b[39m\u001b[38;5;124m\"\u001b[39m)\n\u001b[1;32m--> 350\u001b[0m p \u001b[38;5;241m=\u001b[39m \u001b[43m_compiler\u001b[49m\u001b[38;5;241;43m.\u001b[39;49m\u001b[43mcompile\u001b[49m\u001b[43m(\u001b[49m\u001b[43mpattern\u001b[49m\u001b[43m,\u001b[49m\u001b[43m \u001b[49m\u001b[43mflags\u001b[49m\u001b[43m)\u001b[49m\n\u001b[0;32m    351\u001b[0m \u001b[38;5;28;01mif\u001b[39;00m flags \u001b[38;5;241m&\u001b[39m DEBUG:\n\u001b[0;32m    352\u001b[0m     \u001b[38;5;28;01mreturn\u001b[39;00m p\n",
      "File \u001b[1;32m~\\AppData\\Local\\Programs\\Python\\Python313\\Lib\\re\\_compiler.py:747\u001b[0m, in \u001b[0;36mcompile\u001b[1;34m(p, flags)\u001b[0m\n\u001b[0;32m    744\u001b[0m \u001b[38;5;28;01melse\u001b[39;00m:\n\u001b[0;32m    745\u001b[0m     pattern \u001b[38;5;241m=\u001b[39m \u001b[38;5;28;01mNone\u001b[39;00m\n\u001b[1;32m--> 747\u001b[0m code \u001b[38;5;241m=\u001b[39m \u001b[43m_code\u001b[49m\u001b[43m(\u001b[49m\u001b[43mp\u001b[49m\u001b[43m,\u001b[49m\u001b[43m \u001b[49m\u001b[43mflags\u001b[49m\u001b[43m)\u001b[49m\n\u001b[0;32m    749\u001b[0m \u001b[38;5;28;01mif\u001b[39;00m flags \u001b[38;5;241m&\u001b[39m SRE_FLAG_DEBUG:\n\u001b[0;32m    750\u001b[0m     \u001b[38;5;28mprint\u001b[39m()\n",
      "File \u001b[1;32m~\\AppData\\Local\\Programs\\Python\\Python313\\Lib\\re\\_compiler.py:580\u001b[0m, in \u001b[0;36m_code\u001b[1;34m(p, flags)\u001b[0m\n\u001b[0;32m    577\u001b[0m _compile_info(code, p, flags)\n\u001b[0;32m    579\u001b[0m \u001b[38;5;66;03m# compile the pattern\u001b[39;00m\n\u001b[1;32m--> 580\u001b[0m \u001b[43m_compile\u001b[49m\u001b[43m(\u001b[49m\u001b[43mcode\u001b[49m\u001b[43m,\u001b[49m\u001b[43m \u001b[49m\u001b[43mp\u001b[49m\u001b[38;5;241;43m.\u001b[39;49m\u001b[43mdata\u001b[49m\u001b[43m,\u001b[49m\u001b[43m \u001b[49m\u001b[43mflags\u001b[49m\u001b[43m)\u001b[49m\n\u001b[0;32m    582\u001b[0m code\u001b[38;5;241m.\u001b[39mappend(SUCCESS)\n\u001b[0;32m    584\u001b[0m \u001b[38;5;28;01mreturn\u001b[39;00m code\n",
      "File \u001b[1;32m~\\AppData\\Local\\Programs\\Python\\Python313\\Lib\\re\\_compiler.py:153\u001b[0m, in \u001b[0;36m_compile\u001b[1;34m(code, pattern, flags)\u001b[0m\n\u001b[0;32m    151\u001b[0m         \u001b[38;5;28;01mraise\u001b[39;00m error(\u001b[38;5;124m\"\u001b[39m\u001b[38;5;124mlooks too much behind\u001b[39m\u001b[38;5;124m\"\u001b[39m)\n\u001b[0;32m    152\u001b[0m     \u001b[38;5;28;01mif\u001b[39;00m lo \u001b[38;5;241m!=\u001b[39m hi:\n\u001b[1;32m--> 153\u001b[0m         \u001b[38;5;28;01mraise\u001b[39;00m PatternError(\u001b[38;5;124m\"\u001b[39m\u001b[38;5;124mlook-behind requires fixed-width pattern\u001b[39m\u001b[38;5;124m\"\u001b[39m)\n\u001b[0;32m    154\u001b[0m     emit(lo) \u001b[38;5;66;03m# look behind\u001b[39;00m\n\u001b[0;32m    155\u001b[0m _compile(code, av[\u001b[38;5;241m1\u001b[39m], flags)\n",
      "\u001b[1;31mPatternError\u001b[0m: look-behind requires fixed-width pattern"
     ]
    }
   ],
   "source": [
    "# Find all shortcuts used in the text\n",
    "shortcut_starters = [\"ctrl\", \"alt\", \"shift\", \"cmd\", \"win\"]\n",
    "\n",
    "# Find every shortcut in the text, given that it starts with a shortcut starter and has + between letters or numbers or whitespaces\n",
    "shortcuts = []\n",
    "for shortcut_starter in shortcut_starters:\n",
    "    # shortcuts += re.findall(r\"\\b{}\\s*\\+\\s*\\w+\\b\".format(shortcut_starter), lines)\n",
    "    shortcuts += re.findall(r\"(?<!\\+\\s*)\\b{}\\s*\\+\\s*\\w+\\b\".format(shortcut_starter), lines)\n",
    "\n",
    "shortcuts = list(set(shortcuts))\n",
    "print(shortcuts)"
   ]
  }
 ],
 "metadata": {
  "kernelspec": {
   "display_name": ".venv",
   "language": "python",
   "name": "python3"
  },
  "language_info": {
   "codemirror_mode": {
    "name": "ipython",
    "version": 3
   },
   "file_extension": ".py",
   "mimetype": "text/x-python",
   "name": "python",
   "nbconvert_exporter": "python",
   "pygments_lexer": "ipython3",
   "version": "3.13.0"
  }
 },
 "nbformat": 4,
 "nbformat_minor": 2
}
